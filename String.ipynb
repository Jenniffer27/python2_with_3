{
 "cells": [
  {
   "cell_type": "markdown",
   "metadata": {},
   "source": [
    "# 切片、索引、immutable"
   ]
  },
  {
   "cell_type": "code",
   "execution_count": 4,
   "metadata": {},
   "outputs": [
    {
     "name": "stdout",
     "output_type": "stream",
     "text": [
      "m\n",
      "love\n",
      "the char in string can not be assigned\n"
     ]
    }
   ],
   "source": [
    "stringa = \"we love mami\"\n",
    "print(stringa[8])\n",
    "print(stringa[3:7])\n",
    "try:\n",
    "    stringa[3]=\"L\"\n",
    "except TypeError as err:\n",
    "    print(\"the char in string can not be assigned\")\n",
    "    "
   ]
  },
  {
   "cell_type": "markdown",
   "metadata": {},
   "source": [
    "# iterable"
   ]
  },
  {
   "cell_type": "code",
   "execution_count": 8,
   "metadata": {},
   "outputs": [
    {
     "name": "stdout",
     "output_type": "stream",
     "text": [
      "w\n",
      "e\n",
      " \n",
      "l\n",
      "o\n",
      "v\n",
      "e\n",
      " \n",
      "m\n",
      "a\n",
      "m\n",
      "i\n",
      "ya is not in the string we love mami\n"
     ]
    }
   ],
   "source": [
    "for c in stringa:\n",
    "    print(c)\n",
    "\n",
    "if \"ya\" in stringa:\n",
    "    print(\"ya is in the string {}\".format(stringa))\n",
    "else:\n",
    "    print(\"ya is not in the string {}\".format(stringa))"
   ]
  },
  {
   "cell_type": "markdown",
   "metadata": {},
   "source": [
    "# generation"
   ]
  },
  {
   "cell_type": "code",
   "execution_count": 16,
   "metadata": {},
   "outputs": [
    {
     "name": "stdout",
     "output_type": "stream",
     "text": [
      "the time cost is 5.5977958254516125e-05\n",
      "the time cost is 8.419190999120474e-05\n",
      "the time cost is 4.723097663372755e-05\n",
      "the time cost is 5.5650947615504265e-05\n",
      "['we', 'love', 'mami']\n",
      "we love baba\n"
     ]
    }
   ],
   "source": [
    "import time\n",
    "starttime = time.perf_counter()\n",
    "string1=''\n",
    "endtime = time.perf_counter()\n",
    "print(\"the time cost is {}\".format(endtime-starttime))\n",
    "starttime = time.perf_counter()\n",
    "string2=\"\"\n",
    "endtime = time.perf_counter()\n",
    "print(\"the time cost is {}\".format(endtime-starttime))\n",
    "starttime = time.perf_counter()\n",
    "string3=''''''\n",
    "endtime = time.perf_counter()\n",
    "print(\"the time cost is {}\".format(endtime-starttime))\n",
    "\n",
    "\n",
    "lis = []\n",
    "for i in range(1,100):\n",
    "    lis.append(str(i))\n",
    "               \n",
    "starttime = time.perf_counter()\n",
    "string4 = \"\".join(lis)\n",
    "endtime = time.perf_counter()\n",
    "print(\"the time cost is {}\".format(endtime-starttime))\n",
    "\n",
    "stringa = \"we love mami\"\n",
    "lista = stringa.split(\" \")\n",
    "print(lista)\n",
    "\n",
    "stringb = ' we love baba   '\n",
    "tempstr = stringb.strip()\n",
    "print(tempstr)"
   ]
  },
  {
   "cell_type": "code",
   "execution_count": null,
   "metadata": {},
   "outputs": [],
   "source": []
  }
 ],
 "metadata": {
  "kernelspec": {
   "display_name": "Python 3",
   "language": "python",
   "name": "python3"
  },
  "language_info": {
   "codemirror_mode": {
    "name": "ipython",
    "version": 3
   },
   "file_extension": ".py",
   "mimetype": "text/x-python",
   "name": "python",
   "nbconvert_exporter": "python",
   "pygments_lexer": "ipython3",
   "version": "3.7.3"
  }
 },
 "nbformat": 4,
 "nbformat_minor": 2
}
